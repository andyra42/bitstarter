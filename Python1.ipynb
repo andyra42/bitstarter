{
  "nbformat": 4,
  "nbformat_minor": 0,
  "metadata": {
    "colab": {
      "name": "Python1.ipynb",
      "provenance": [],
      "authorship_tag": "ABX9TyPSihZMB5jHenSsFprhlEkW",
      "include_colab_link": true
    },
    "kernelspec": {
      "name": "python3",
      "display_name": "Python 3"
    }
  },
  "cells": [
    {
      "cell_type": "markdown",
      "metadata": {
        "id": "view-in-github",
        "colab_type": "text"
      },
      "source": [
        "<a href=\"https://colab.research.google.com/github/andyra42/bitstarter/blob/master/Python1.ipynb\" target=\"_parent\"><img src=\"https://colab.research.google.com/assets/colab-badge.svg\" alt=\"Open In Colab\"/></a>"
      ]
    },
    {
      "cell_type": "code",
      "metadata": {
        "id": "sXdpkGGz_rsd",
        "colab_type": "code",
        "colab": {
          "base_uri": "https://localhost:8080/",
          "height": 34
        },
        "outputId": "b8589d0a-0fa5-4a07-9db3-8dfb8cccdbb8"
      },
      "source": [
        "!python --version"
      ],
      "execution_count": 2,
      "outputs": [
        {
          "output_type": "stream",
          "text": [
            "Python 3.6.9\n"
          ],
          "name": "stdout"
        }
      ]
    },
    {
      "cell_type": "code",
      "metadata": {
        "id": "75jP9Y1uBywh",
        "colab_type": "code",
        "colab": {
          "base_uri": "https://localhost:8080/",
          "height": 68
        },
        "outputId": "0cde2d6c-76e5-43c5-a7fc-a0f40326a53a"
      },
      "source": [
        "import time\n",
        "print(time.ctime())\n",
        "print(\"Hello Python\")\n",
        "counter =100\n",
        "print (counter)"
      ],
      "execution_count": 11,
      "outputs": [
        {
          "output_type": "stream",
          "text": [
            "Sat Aug 15 01:06:04 2020\n",
            "Hello Python\n",
            "100\n"
          ],
          "name": "stdout"
        }
      ]
    },
    {
      "cell_type": "code",
      "metadata": {
        "id": "xTVMKsaIqauj",
        "colab_type": "code",
        "colab": {
          "base_uri": "https://localhost:8080/",
          "height": 136
        },
        "outputId": "1ad320ca-f3a6-4954-9138-b1f4aba80b47"
      },
      "source": [
        "str = 'Hello World!'\n",
        "\n",
        "print (str)          # Prints complete string\n",
        "print (str[0])       # Prints first character of the string\n",
        "print (str[2:5])     # Prints characters starting from 3rd to 5th\n",
        "print (str[2:])      # Prints string starting from 3rd character\n",
        "print (str * 2)      # Prints string two times\n",
        "print (str + \"TEST\") # Prints concatenated string\n",
        "print(counter)"
      ],
      "execution_count": 15,
      "outputs": [
        {
          "output_type": "stream",
          "text": [
            "Hello World!\n",
            "H\n",
            "llo\n",
            "llo World!\n",
            "Hello World!Hello World!\n",
            "Hello World!TEST\n",
            "100\n"
          ],
          "name": "stdout"
        }
      ]
    },
    {
      "cell_type": "code",
      "metadata": {
        "id": "uISn8qU-GOg2",
        "colab_type": "code",
        "colab": {
          "base_uri": "https://localhost:8080/",
          "height": 51
        },
        "outputId": "e4f8eb64-a8e0-463c-c9e3-fc2bc3c85d74"
      },
      "source": [
        "if True:\n",
        "  print (\"Answer\")\n",
        "  print (\"True\")\n",
        "else:\n",
        "  print (\"Answer\")\n",
        "  print (\"False\")"
      ],
      "execution_count": 8,
      "outputs": [
        {
          "output_type": "stream",
          "text": [
            "Answer\n",
            "True\n"
          ],
          "name": "stdout"
        }
      ]
    },
    {
      "cell_type": "code",
      "metadata": {
        "id": "rijso_zKsvbx",
        "colab_type": "code",
        "colab": {
          "base_uri": "https://localhost:8080/",
          "height": 136
        },
        "outputId": "e2784cbf-2bc4-4784-91c5-9eb34ee56d72"
      },
      "source": [
        "tuple = ( 'abcd', 786 , 2.23, 'john', 70.2  )\n",
        "list = [ 'abcd', 786 , 2.23, 'john', 70.2  ]\n",
        "#tuple[2] = 1000    # Invalid syntax with tuple\n",
        "list[2] = 1000     # Valid syntax with list\n",
        "print(list)\n",
        "print (list[1:3])     # Prints elements starting from 2nd till 3rd \n",
        "print (list[2:])      # Prints elements starting from 3rd element\n",
        "print (list * 2)  # Prints list two times\n",
        "print (list + list) # Prints concatenated lists\n",
        "tinydict = {'name': 'john','code':6734, 'dept111': 'sales'}\n",
        "print (tinydict.keys())   # Prints all the keys\n",
        "print (tinydict.values()) # Prints all the values\n"
      ],
      "execution_count": 22,
      "outputs": [
        {
          "output_type": "stream",
          "text": [
            "['abcd', 786, 1000, 'john', 70.2]\n",
            "[786, 1000]\n",
            "[1000, 'john', 70.2]\n",
            "['abcd', 786, 1000, 'john', 70.2, 'abcd', 786, 1000, 'john', 70.2]\n",
            "['abcd', 786, 1000, 'john', 70.2, 'abcd', 786, 1000, 'john', 70.2]\n",
            "dict_keys(['name', 'code', 'dept111'])\n",
            "dict_values(['john', 6734, 'sales'])\n"
          ],
          "name": "stdout"
        }
      ]
    },
    {
      "cell_type": "code",
      "metadata": {
        "id": "EDavQ2A7C0xU",
        "colab_type": "code",
        "colab": {
          "base_uri": "https://localhost:8080/",
          "height": 102
        },
        "outputId": "e0381371-edd6-4a54-e73a-52662425df77"
      },
      "source": [
        "pip install pandas\n"
      ],
      "execution_count": 1,
      "outputs": [
        {
          "output_type": "stream",
          "text": [
            "Requirement already satisfied: pandas in /usr/local/lib/python3.6/dist-packages (1.0.5)\n",
            "Requirement already satisfied: python-dateutil>=2.6.1 in /usr/local/lib/python3.6/dist-packages (from pandas) (2.8.1)\n",
            "Requirement already satisfied: numpy>=1.13.3 in /usr/local/lib/python3.6/dist-packages (from pandas) (1.18.5)\n",
            "Requirement already satisfied: pytz>=2017.2 in /usr/local/lib/python3.6/dist-packages (from pandas) (2018.9)\n",
            "Requirement already satisfied: six>=1.5 in /usr/local/lib/python3.6/dist-packages (from python-dateutil>=2.6.1->pandas) (1.15.0)\n"
          ],
          "name": "stdout"
        }
      ]
    }
  ]
}