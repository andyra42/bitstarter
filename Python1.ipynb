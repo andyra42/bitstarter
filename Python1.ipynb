{
  "nbformat": 4,
  "nbformat_minor": 0,
  "metadata": {
    "colab": {
      "name": "Python1.ipynb",
      "provenance": [],
      "authorship_tag": "ABX9TyM/TXX1rEH/sB83kg4Q1Jpp",
      "include_colab_link": true
    },
    "kernelspec": {
      "name": "python3",
      "display_name": "Python 3"
    }
  },
  "cells": [
    {
      "cell_type": "markdown",
      "metadata": {
        "id": "view-in-github",
        "colab_type": "text"
      },
      "source": [
        "<a href=\"https://colab.research.google.com/github/andyra42/bitstarter/blob/master/Python1.ipynb\" target=\"_parent\"><img src=\"https://colab.research.google.com/assets/colab-badge.svg\" alt=\"Open In Colab\"/></a>"
      ]
    },
    {
      "cell_type": "code",
      "metadata": {
        "id": "sXdpkGGz_rsd",
        "colab_type": "code",
        "colab": {
          "base_uri": "https://localhost:8080/",
          "height": 34
        },
        "outputId": "b8589d0a-0fa5-4a07-9db3-8dfb8cccdbb8"
      },
      "source": [
        "!python --version"
      ],
      "execution_count": 2,
      "outputs": [
        {
          "output_type": "stream",
          "text": [
            "Python 3.6.9\n"
          ],
          "name": "stdout"
        }
      ]
    },
    {
      "cell_type": "code",
      "metadata": {
        "id": "75jP9Y1uBywh",
        "colab_type": "code",
        "colab": {
          "base_uri": "https://localhost:8080/",
          "height": 68
        },
        "outputId": "0cde2d6c-76e5-43c5-a7fc-a0f40326a53a"
      },
      "source": [
        "import time\n",
        "print(time.ctime())\n",
        "print(\"Hello Python\")\n",
        "counter =100\n",
        "print (counter)"
      ],
      "execution_count": 11,
      "outputs": [
        {
          "output_type": "stream",
          "text": [
            "Sat Aug 15 01:06:04 2020\n",
            "Hello Python\n",
            "100\n"
          ],
          "name": "stdout"
        }
      ]
    },
    {
      "cell_type": "code",
      "metadata": {
        "id": "xTVMKsaIqauj",
        "colab_type": "code",
        "colab": {
          "base_uri": "https://localhost:8080/",
          "height": 136
        },
        "outputId": "1ad320ca-f3a6-4954-9138-b1f4aba80b47"
      },
      "source": [
        "str = 'Hello World!'\n",
        "\n",
        "print (str)          # Prints complete string\n",
        "print (str[0])       # Prints first character of the string\n",
        "print (str[2:5])     # Prints characters starting from 3rd to 5th\n",
        "print (str[2:])      # Prints string starting from 3rd character\n",
        "print (str * 2)      # Prints string two times\n",
        "print (str + \"TEST\") # Prints concatenated string\n",
        "print(counter)"
      ],
      "execution_count": 15,
      "outputs": [
        {
          "output_type": "stream",
          "text": [
            "Hello World!\n",
            "H\n",
            "llo\n",
            "llo World!\n",
            "Hello World!Hello World!\n",
            "Hello World!TEST\n",
            "100\n"
          ],
          "name": "stdout"
        }
      ]
    },
    {
      "cell_type": "code",
      "metadata": {
        "id": "uISn8qU-GOg2",
        "colab_type": "code",
        "colab": {
          "base_uri": "https://localhost:8080/",
          "height": 51
        },
        "outputId": "e4f8eb64-a8e0-463c-c9e3-fc2bc3c85d74"
      },
      "source": [
        "if True:\n",
        "  print (\"Answer\")\n",
        "  print (\"True\")\n",
        "else:\n",
        "  print (\"Answer\")\n",
        "  print (\"False\")"
      ],
      "execution_count": 8,
      "outputs": [
        {
          "output_type": "stream",
          "text": [
            "Answer\n",
            "True\n"
          ],
          "name": "stdout"
        }
      ]
    },
    {
      "cell_type": "code",
      "metadata": {
        "id": "rijso_zKsvbx",
        "colab_type": "code",
        "colab": {
          "base_uri": "https://localhost:8080/",
          "height": 136
        },
        "outputId": "e2784cbf-2bc4-4784-91c5-9eb34ee56d72"
      },
      "source": [
        "tuple = ( 'abcd', 786 , 2.23, 'john', 70.2  )\n",
        "list = [ 'abcd', 786 , 2.23, 'john', 70.2  ]\n",
        "#tuple[2] = 1000    # Invalid syntax with tuple\n",
        "list[2] = 1000     # Valid syntax with list\n",
        "print(list)\n",
        "print (list[1:3])     # Prints elements starting from 2nd till 3rd \n",
        "print (list[2:])      # Prints elements starting from 3rd element\n",
        "print (list * 2)  # Prints list two times\n",
        "print (list + list) # Prints concatenated lists\n",
        "tinydict = {'name': 'john','code':6734, 'dept111': 'sales'}\n",
        "print (tinydict.keys())   # Prints all the keys\n",
        "print (tinydict.values()) # Prints all the values\n"
      ],
      "execution_count": 22,
      "outputs": [
        {
          "output_type": "stream",
          "text": [
            "['abcd', 786, 1000, 'john', 70.2]\n",
            "[786, 1000]\n",
            "[1000, 'john', 70.2]\n",
            "['abcd', 786, 1000, 'john', 70.2, 'abcd', 786, 1000, 'john', 70.2]\n",
            "['abcd', 786, 1000, 'john', 70.2, 'abcd', 786, 1000, 'john', 70.2]\n",
            "dict_keys(['name', 'code', 'dept111'])\n",
            "dict_values(['john', 6734, 'sales'])\n"
          ],
          "name": "stdout"
        }
      ]
    },
    {
      "cell_type": "code",
      "metadata": {
        "id": "EDavQ2A7C0xU",
        "colab_type": "code",
        "colab": {
          "base_uri": "https://localhost:8080/",
          "height": 102
        },
        "outputId": "e0381371-edd6-4a54-e73a-52662425df77"
      },
      "source": [
        "pip install pandas\n"
      ],
      "execution_count": 1,
      "outputs": [
        {
          "output_type": "stream",
          "text": [
            "Requirement already satisfied: pandas in /usr/local/lib/python3.6/dist-packages (1.0.5)\n",
            "Requirement already satisfied: python-dateutil>=2.6.1 in /usr/local/lib/python3.6/dist-packages (from pandas) (2.8.1)\n",
            "Requirement already satisfied: numpy>=1.13.3 in /usr/local/lib/python3.6/dist-packages (from pandas) (1.18.5)\n",
            "Requirement already satisfied: pytz>=2017.2 in /usr/local/lib/python3.6/dist-packages (from pandas) (2018.9)\n",
            "Requirement already satisfied: six>=1.5 in /usr/local/lib/python3.6/dist-packages (from python-dateutil>=2.6.1->pandas) (1.15.0)\n"
          ],
          "name": "stdout"
        }
      ]
    },
    {
      "cell_type": "code",
      "metadata": {
        "id": "9xleeAdkDNDc",
        "colab_type": "code",
        "colab": {
          "base_uri": "https://localhost:8080/",
          "height": 241
        },
        "outputId": "1bc25f27-3a82-444c-b00c-acf4630ec446"
      },
      "source": [
        "pip install pandas_datareader"
      ],
      "execution_count": 2,
      "outputs": [
        {
          "output_type": "stream",
          "text": [
            "Requirement already satisfied: pandas_datareader in /usr/local/lib/python3.6/dist-packages (0.8.1)\n",
            "Requirement already satisfied: requests>=2.3.0 in /usr/local/lib/python3.6/dist-packages (from pandas_datareader) (2.23.0)\n",
            "Requirement already satisfied: pandas>=0.21 in /usr/local/lib/python3.6/dist-packages (from pandas_datareader) (1.0.5)\n",
            "Requirement already satisfied: lxml in /usr/local/lib/python3.6/dist-packages (from pandas_datareader) (4.2.6)\n",
            "Requirement already satisfied: certifi>=2017.4.17 in /usr/local/lib/python3.6/dist-packages (from requests>=2.3.0->pandas_datareader) (2020.6.20)\n",
            "Requirement already satisfied: idna<3,>=2.5 in /usr/local/lib/python3.6/dist-packages (from requests>=2.3.0->pandas_datareader) (2.10)\n",
            "Requirement already satisfied: urllib3!=1.25.0,!=1.25.1,<1.26,>=1.21.1 in /usr/local/lib/python3.6/dist-packages (from requests>=2.3.0->pandas_datareader) (1.24.3)\n",
            "Requirement already satisfied: chardet<4,>=3.0.2 in /usr/local/lib/python3.6/dist-packages (from requests>=2.3.0->pandas_datareader) (3.0.4)\n",
            "Requirement already satisfied: numpy>=1.13.3 in /usr/local/lib/python3.6/dist-packages (from pandas>=0.21->pandas_datareader) (1.18.5)\n",
            "Requirement already satisfied: pytz>=2017.2 in /usr/local/lib/python3.6/dist-packages (from pandas>=0.21->pandas_datareader) (2018.9)\n",
            "Requirement already satisfied: python-dateutil>=2.6.1 in /usr/local/lib/python3.6/dist-packages (from pandas>=0.21->pandas_datareader) (2.8.1)\n",
            "Requirement already satisfied: six>=1.5 in /usr/local/lib/python3.6/dist-packages (from python-dateutil>=2.6.1->pandas>=0.21->pandas_datareader) (1.15.0)\n"
          ],
          "name": "stdout"
        }
      ]
    },
    {
      "cell_type": "code",
      "metadata": {
        "id": "Y9GCvnM1FR2M",
        "colab_type": "code",
        "colab": {
          "base_uri": "https://localhost:8080/",
          "height": 235
        },
        "outputId": "b8f8f95a-a769-4683-88f2-031a1bf9ef76"
      },
      "source": [
        "import pandas as pd\n",
        "pd.core.common.is_list_like = pd.api.types.is_list_like\n",
        "from pandas_datareader import data\n",
        "df = data.get_data_yahoo('MSFT','2018-01-01','2020-01-01')\n",
        "df.head()"
      ],
      "execution_count": 7,
      "outputs": [
        {
          "output_type": "execute_result",
          "data": {
            "text/html": [
              "<div>\n",
              "<style scoped>\n",
              "    .dataframe tbody tr th:only-of-type {\n",
              "        vertical-align: middle;\n",
              "    }\n",
              "\n",
              "    .dataframe tbody tr th {\n",
              "        vertical-align: top;\n",
              "    }\n",
              "\n",
              "    .dataframe thead th {\n",
              "        text-align: right;\n",
              "    }\n",
              "</style>\n",
              "<table border=\"1\" class=\"dataframe\">\n",
              "  <thead>\n",
              "    <tr style=\"text-align: right;\">\n",
              "      <th></th>\n",
              "      <th>High</th>\n",
              "      <th>Low</th>\n",
              "      <th>Open</th>\n",
              "      <th>Close</th>\n",
              "      <th>Volume</th>\n",
              "      <th>Adj Close</th>\n",
              "    </tr>\n",
              "    <tr>\n",
              "      <th>Date</th>\n",
              "      <th></th>\n",
              "      <th></th>\n",
              "      <th></th>\n",
              "      <th></th>\n",
              "      <th></th>\n",
              "      <th></th>\n",
              "    </tr>\n",
              "  </thead>\n",
              "  <tbody>\n",
              "    <tr>\n",
              "      <th>2018-01-02</th>\n",
              "      <td>86.309998</td>\n",
              "      <td>85.500000</td>\n",
              "      <td>86.129997</td>\n",
              "      <td>85.949997</td>\n",
              "      <td>22483800.0</td>\n",
              "      <td>82.798996</td>\n",
              "    </tr>\n",
              "    <tr>\n",
              "      <th>2018-01-03</th>\n",
              "      <td>86.510002</td>\n",
              "      <td>85.970001</td>\n",
              "      <td>86.059998</td>\n",
              "      <td>86.349998</td>\n",
              "      <td>26061400.0</td>\n",
              "      <td>83.184326</td>\n",
              "    </tr>\n",
              "    <tr>\n",
              "      <th>2018-01-04</th>\n",
              "      <td>87.660004</td>\n",
              "      <td>86.570000</td>\n",
              "      <td>86.589996</td>\n",
              "      <td>87.110001</td>\n",
              "      <td>21912000.0</td>\n",
              "      <td>83.916473</td>\n",
              "    </tr>\n",
              "    <tr>\n",
              "      <th>2018-01-05</th>\n",
              "      <td>88.410004</td>\n",
              "      <td>87.430000</td>\n",
              "      <td>87.660004</td>\n",
              "      <td>88.190002</td>\n",
              "      <td>23407100.0</td>\n",
              "      <td>84.956886</td>\n",
              "    </tr>\n",
              "    <tr>\n",
              "      <th>2018-01-08</th>\n",
              "      <td>88.580002</td>\n",
              "      <td>87.599998</td>\n",
              "      <td>88.199997</td>\n",
              "      <td>88.279999</td>\n",
              "      <td>22113000.0</td>\n",
              "      <td>85.043571</td>\n",
              "    </tr>\n",
              "  </tbody>\n",
              "</table>\n",
              "</div>"
            ],
            "text/plain": [
              "                 High        Low       Open      Close      Volume  Adj Close\n",
              "Date                                                                         \n",
              "2018-01-02  86.309998  85.500000  86.129997  85.949997  22483800.0  82.798996\n",
              "2018-01-03  86.510002  85.970001  86.059998  86.349998  26061400.0  83.184326\n",
              "2018-01-04  87.660004  86.570000  86.589996  87.110001  21912000.0  83.916473\n",
              "2018-01-05  88.410004  87.430000  87.660004  88.190002  23407100.0  84.956886\n",
              "2018-01-08  88.580002  87.599998  88.199997  88.279999  22113000.0  85.043571"
            ]
          },
          "metadata": {
            "tags": []
          },
          "execution_count": 7
        }
      ]
    },
    {
      "cell_type": "code",
      "metadata": {
        "id": "bXUzCVHVHPp9",
        "colab_type": "code",
        "colab": {
          "base_uri": "https://localhost:8080/",
          "height": 326
        },
        "outputId": "0ed6caba-68b9-4c71-e4a1-08e44bfb6348"
      },
      "source": [
        "pip install quandl"
      ],
      "execution_count": 8,
      "outputs": [
        {
          "output_type": "stream",
          "text": [
            "Collecting quandl\n",
            "  Downloading https://files.pythonhosted.org/packages/1b/29/185269dbd2e2698c8098b35c52ce73a2c52cf76163e709f9f7789d03ebbb/Quandl-3.5.2-py2.py3-none-any.whl\n",
            "Requirement already satisfied: numpy>=1.8 in /usr/local/lib/python3.6/dist-packages (from quandl) (1.18.5)\n",
            "Requirement already satisfied: python-dateutil in /usr/local/lib/python3.6/dist-packages (from quandl) (2.8.1)\n",
            "Requirement already satisfied: requests>=2.7.0 in /usr/local/lib/python3.6/dist-packages (from quandl) (2.23.0)\n",
            "Requirement already satisfied: more-itertools in /usr/local/lib/python3.6/dist-packages (from quandl) (8.4.0)\n",
            "Collecting inflection>=0.3.1\n",
            "  Downloading https://files.pythonhosted.org/packages/d2/cd/f04c661d1b5ba6b7d77008e8fedd28a27a683eeeffcd93c6b2dbe54ea983/inflection-0.5.0-py2.py3-none-any.whl\n",
            "Requirement already satisfied: pandas>=0.14 in /usr/local/lib/python3.6/dist-packages (from quandl) (1.0.5)\n",
            "Requirement already satisfied: six in /usr/local/lib/python3.6/dist-packages (from quandl) (1.15.0)\n",
            "Requirement already satisfied: certifi>=2017.4.17 in /usr/local/lib/python3.6/dist-packages (from requests>=2.7.0->quandl) (2020.6.20)\n",
            "Requirement already satisfied: idna<3,>=2.5 in /usr/local/lib/python3.6/dist-packages (from requests>=2.7.0->quandl) (2.10)\n",
            "Requirement already satisfied: urllib3!=1.25.0,!=1.25.1,<1.26,>=1.21.1 in /usr/local/lib/python3.6/dist-packages (from requests>=2.7.0->quandl) (1.24.3)\n",
            "Requirement already satisfied: chardet<4,>=3.0.2 in /usr/local/lib/python3.6/dist-packages (from requests>=2.7.0->quandl) (3.0.4)\n",
            "Requirement already satisfied: pytz>=2017.2 in /usr/local/lib/python3.6/dist-packages (from pandas>=0.14->quandl) (2018.9)\n",
            "Installing collected packages: inflection, quandl\n",
            "Successfully installed inflection-0.5.0 quandl-3.5.2\n"
          ],
          "name": "stdout"
        }
      ]
    },
    {
      "cell_type": "code",
      "metadata": {
        "id": "vhc7vNoOH04m",
        "colab_type": "code",
        "colab": {
          "base_uri": "https://localhost:8080/",
          "height": 314
        },
        "outputId": "e7c46e7a-39f0-44f8-9982-6233532c9346"
      },
      "source": [
        "import quandl\n",
        "aapl = quandl.get(\"WIKI/AAPL\",start_date ='2018-01-01',end_date = '2020-07-01')\n",
        "aapl.describe()"
      ],
      "execution_count": 12,
      "outputs": [
        {
          "output_type": "execute_result",
          "data": {
            "text/html": [
              "<div>\n",
              "<style scoped>\n",
              "    .dataframe tbody tr th:only-of-type {\n",
              "        vertical-align: middle;\n",
              "    }\n",
              "\n",
              "    .dataframe tbody tr th {\n",
              "        vertical-align: top;\n",
              "    }\n",
              "\n",
              "    .dataframe thead th {\n",
              "        text-align: right;\n",
              "    }\n",
              "</style>\n",
              "<table border=\"1\" class=\"dataframe\">\n",
              "  <thead>\n",
              "    <tr style=\"text-align: right;\">\n",
              "      <th></th>\n",
              "      <th>Open</th>\n",
              "      <th>High</th>\n",
              "      <th>Low</th>\n",
              "      <th>Close</th>\n",
              "      <th>Volume</th>\n",
              "      <th>Ex-Dividend</th>\n",
              "      <th>Split Ratio</th>\n",
              "      <th>Adj. Open</th>\n",
              "      <th>Adj. High</th>\n",
              "      <th>Adj. Low</th>\n",
              "      <th>Adj. Close</th>\n",
              "      <th>Adj. Volume</th>\n",
              "    </tr>\n",
              "  </thead>\n",
              "  <tbody>\n",
              "    <tr>\n",
              "      <th>count</th>\n",
              "      <td>59.000000</td>\n",
              "      <td>59.000000</td>\n",
              "      <td>59.000000</td>\n",
              "      <td>59.000000</td>\n",
              "      <td>5.900000e+01</td>\n",
              "      <td>59.0</td>\n",
              "      <td>59.0</td>\n",
              "      <td>59.000000</td>\n",
              "      <td>59.000000</td>\n",
              "      <td>59.000000</td>\n",
              "      <td>59.000000</td>\n",
              "      <td>5.900000e+01</td>\n",
              "    </tr>\n",
              "    <tr>\n",
              "      <th>mean</th>\n",
              "      <td>172.434153</td>\n",
              "      <td>174.205937</td>\n",
              "      <td>170.771020</td>\n",
              "      <td>172.375593</td>\n",
              "      <td>3.642278e+07</td>\n",
              "      <td>0.0</td>\n",
              "      <td>1.0</td>\n",
              "      <td>172.434153</td>\n",
              "      <td>174.205937</td>\n",
              "      <td>170.771020</td>\n",
              "      <td>172.375593</td>\n",
              "      <td>3.642278e+07</td>\n",
              "    </tr>\n",
              "    <tr>\n",
              "      <th>std</th>\n",
              "      <td>6.383029</td>\n",
              "      <td>5.727306</td>\n",
              "      <td>6.951966</td>\n",
              "      <td>6.329329</td>\n",
              "      <td>1.318086e+07</td>\n",
              "      <td>0.0</td>\n",
              "      <td>0.0</td>\n",
              "      <td>6.383029</td>\n",
              "      <td>5.727306</td>\n",
              "      <td>6.951966</td>\n",
              "      <td>6.329329</td>\n",
              "      <td>1.318086e+07</td>\n",
              "    </tr>\n",
              "    <tr>\n",
              "      <th>min</th>\n",
              "      <td>154.830000</td>\n",
              "      <td>157.890000</td>\n",
              "      <td>150.240000</td>\n",
              "      <td>155.320000</td>\n",
              "      <td>1.752326e+07</td>\n",
              "      <td>0.0</td>\n",
              "      <td>1.0</td>\n",
              "      <td>154.830000</td>\n",
              "      <td>157.890000</td>\n",
              "      <td>150.240000</td>\n",
              "      <td>155.320000</td>\n",
              "      <td>1.752326e+07</td>\n",
              "    </tr>\n",
              "    <tr>\n",
              "      <th>25%</th>\n",
              "      <td>169.895000</td>\n",
              "      <td>172.150000</td>\n",
              "      <td>166.995000</td>\n",
              "      <td>168.592500</td>\n",
              "      <td>2.894756e+07</td>\n",
              "      <td>0.0</td>\n",
              "      <td>1.0</td>\n",
              "      <td>169.895000</td>\n",
              "      <td>172.150000</td>\n",
              "      <td>166.995000</td>\n",
              "      <td>168.592500</td>\n",
              "      <td>2.894756e+07</td>\n",
              "    </tr>\n",
              "    <tr>\n",
              "      <th>50%</th>\n",
              "      <td>173.680000</td>\n",
              "      <td>175.150000</td>\n",
              "      <td>172.660000</td>\n",
              "      <td>174.290000</td>\n",
              "      <td>3.332923e+07</td>\n",
              "      <td>0.0</td>\n",
              "      <td>1.0</td>\n",
              "      <td>173.680000</td>\n",
              "      <td>175.150000</td>\n",
              "      <td>172.660000</td>\n",
              "      <td>174.290000</td>\n",
              "      <td>3.332923e+07</td>\n",
              "    </tr>\n",
              "    <tr>\n",
              "      <th>75%</th>\n",
              "      <td>177.300000</td>\n",
              "      <td>178.685000</td>\n",
              "      <td>175.890000</td>\n",
              "      <td>176.970000</td>\n",
              "      <td>3.966549e+07</td>\n",
              "      <td>0.0</td>\n",
              "      <td>1.0</td>\n",
              "      <td>177.300000</td>\n",
              "      <td>178.685000</td>\n",
              "      <td>175.890000</td>\n",
              "      <td>176.970000</td>\n",
              "      <td>3.966549e+07</td>\n",
              "    </tr>\n",
              "    <tr>\n",
              "      <th>max</th>\n",
              "      <td>182.590000</td>\n",
              "      <td>183.500000</td>\n",
              "      <td>180.210000</td>\n",
              "      <td>181.720000</td>\n",
              "      <td>8.543608e+07</td>\n",
              "      <td>0.0</td>\n",
              "      <td>1.0</td>\n",
              "      <td>182.590000</td>\n",
              "      <td>183.500000</td>\n",
              "      <td>180.210000</td>\n",
              "      <td>181.720000</td>\n",
              "      <td>8.543608e+07</td>\n",
              "    </tr>\n",
              "  </tbody>\n",
              "</table>\n",
              "</div>"
            ],
            "text/plain": [
              "             Open        High         Low  ...    Adj. Low  Adj. Close   Adj. Volume\n",
              "count   59.000000   59.000000   59.000000  ...   59.000000   59.000000  5.900000e+01\n",
              "mean   172.434153  174.205937  170.771020  ...  170.771020  172.375593  3.642278e+07\n",
              "std      6.383029    5.727306    6.951966  ...    6.951966    6.329329  1.318086e+07\n",
              "min    154.830000  157.890000  150.240000  ...  150.240000  155.320000  1.752326e+07\n",
              "25%    169.895000  172.150000  166.995000  ...  166.995000  168.592500  2.894756e+07\n",
              "50%    173.680000  175.150000  172.660000  ...  172.660000  174.290000  3.332923e+07\n",
              "75%    177.300000  178.685000  175.890000  ...  175.890000  176.970000  3.966549e+07\n",
              "max    182.590000  183.500000  180.210000  ...  180.210000  181.720000  8.543608e+07\n",
              "\n",
              "[8 rows x 12 columns]"
            ]
          },
          "metadata": {
            "tags": []
          },
          "execution_count": 12
        }
      ]
    },
    {
      "cell_type": "code",
      "metadata": {
        "id": "IWiJbMuONweN",
        "colab_type": "code",
        "colab": {}
      },
      "source": [
        "df.head()\n",
        "df.describe()\n",
        "df.to_csv(\"msft-18-20\")"
      ],
      "execution_count": 15,
      "outputs": []
    }
  ]
}